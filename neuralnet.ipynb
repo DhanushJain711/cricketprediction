{
 "cells": [
  {
   "cell_type": "code",
   "execution_count": 13,
   "id": "4ab846f8-3301-4638-a189-d36491f4b965",
   "metadata": {
    "collapsed": true,
    "jupyter": {
     "outputs_hidden": true
    }
   },
   "outputs": [],
   "source": [
    "import pandas as pd\n",
    "import numpy as np\n",
    "from sklearn.model_selection import train_test_split\n",
    "from sklearn.preprocessing import StandardScaler\n",
    "from sklearn.metrics import mean_absolute_error, mean_squared_error\n",
    "import tensorflow as tf\n",
    "import matplotlib.pyplot as plt\n",
    "import joblib"
   ]
  },
  {
   "cell_type": "code",
   "execution_count": 14,
   "id": "44048e5a-098d-4913-b4c4-5ee405a5e31b",
   "metadata": {
    "collapsed": true,
    "jupyter": {
     "outputs_hidden": true
    }
   },
   "outputs": [
    {
     "name": "stderr",
     "output_type": "stream",
     "text": [
      "C:\\Users\\Dhanush Jain\\miniconda3\\envs\\mlcricket\\lib\\site-packages\\IPython\\core\\interactiveshell.py:3457: DtypeWarning: Columns (20,21) have mixed types.Specify dtype option on import or set low_memory=False.\n",
      "  exec(code_obj, self.user_global_ns, self.user_ns)\n"
     ]
    },
    {
     "data": {
      "text/html": [
       "<div>\n",
       "<style scoped>\n",
       "    .dataframe tbody tr th:only-of-type {\n",
       "        vertical-align: middle;\n",
       "    }\n",
       "\n",
       "    .dataframe tbody tr th {\n",
       "        vertical-align: top;\n",
       "    }\n",
       "\n",
       "    .dataframe thead th {\n",
       "        text-align: right;\n",
       "    }\n",
       "</style>\n",
       "<table border=\"1\" class=\"dataframe\">\n",
       "  <thead>\n",
       "    <tr style=\"text-align: right;\">\n",
       "      <th></th>\n",
       "      <th>match_id</th>\n",
       "      <th>season</th>\n",
       "      <th>start_date</th>\n",
       "      <th>venue</th>\n",
       "      <th>innings</th>\n",
       "      <th>ball</th>\n",
       "      <th>batting_team</th>\n",
       "      <th>bowling_team</th>\n",
       "      <th>striker</th>\n",
       "      <th>non_striker</th>\n",
       "      <th>...</th>\n",
       "      <th>extras_total</th>\n",
       "      <th>run_total</th>\n",
       "      <th>wickets</th>\n",
       "      <th>overs_left</th>\n",
       "      <th>run_rate</th>\n",
       "      <th>striker_score</th>\n",
       "      <th>non_striker_score</th>\n",
       "      <th>striker_rate</th>\n",
       "      <th>non_striker_rate</th>\n",
       "      <th>final_score</th>\n",
       "    </tr>\n",
       "  </thead>\n",
       "  <tbody>\n",
       "    <tr>\n",
       "      <th>0</th>\n",
       "      <td>1310981.0</td>\n",
       "      <td>2022</td>\n",
       "      <td>5/24/2022</td>\n",
       "      <td>Southend Club Cricket Stadium, Karachi</td>\n",
       "      <td>1.0</td>\n",
       "      <td>0.1</td>\n",
       "      <td>Sri Lanka</td>\n",
       "      <td>Pakistan</td>\n",
       "      <td>GWHM Perera</td>\n",
       "      <td>AC Jayangani</td>\n",
       "      <td>...</td>\n",
       "      <td>0.0</td>\n",
       "      <td>0.0</td>\n",
       "      <td>0</td>\n",
       "      <td>19.5</td>\n",
       "      <td>0.0</td>\n",
       "      <td>0.0</td>\n",
       "      <td>0.0</td>\n",
       "      <td>0.000000</td>\n",
       "      <td>0.0</td>\n",
       "      <td>106.0</td>\n",
       "    </tr>\n",
       "    <tr>\n",
       "      <th>1</th>\n",
       "      <td>1310981.0</td>\n",
       "      <td>2022</td>\n",
       "      <td>5/24/2022</td>\n",
       "      <td>Southend Club Cricket Stadium, Karachi</td>\n",
       "      <td>1.0</td>\n",
       "      <td>0.2</td>\n",
       "      <td>Sri Lanka</td>\n",
       "      <td>Pakistan</td>\n",
       "      <td>GWHM Perera</td>\n",
       "      <td>AC Jayangani</td>\n",
       "      <td>...</td>\n",
       "      <td>0.0</td>\n",
       "      <td>4.0</td>\n",
       "      <td>0</td>\n",
       "      <td>19.4</td>\n",
       "      <td>12.0</td>\n",
       "      <td>4.0</td>\n",
       "      <td>0.0</td>\n",
       "      <td>200.000000</td>\n",
       "      <td>0.0</td>\n",
       "      <td>106.0</td>\n",
       "    </tr>\n",
       "    <tr>\n",
       "      <th>2</th>\n",
       "      <td>1310981.0</td>\n",
       "      <td>2022</td>\n",
       "      <td>5/24/2022</td>\n",
       "      <td>Southend Club Cricket Stadium, Karachi</td>\n",
       "      <td>1.0</td>\n",
       "      <td>0.3</td>\n",
       "      <td>Sri Lanka</td>\n",
       "      <td>Pakistan</td>\n",
       "      <td>GWHM Perera</td>\n",
       "      <td>AC Jayangani</td>\n",
       "      <td>...</td>\n",
       "      <td>0.0</td>\n",
       "      <td>4.0</td>\n",
       "      <td>0</td>\n",
       "      <td>19.3</td>\n",
       "      <td>8.0</td>\n",
       "      <td>4.0</td>\n",
       "      <td>0.0</td>\n",
       "      <td>133.333333</td>\n",
       "      <td>0.0</td>\n",
       "      <td>106.0</td>\n",
       "    </tr>\n",
       "    <tr>\n",
       "      <th>3</th>\n",
       "      <td>1310981.0</td>\n",
       "      <td>2022</td>\n",
       "      <td>5/24/2022</td>\n",
       "      <td>Southend Club Cricket Stadium, Karachi</td>\n",
       "      <td>1.0</td>\n",
       "      <td>0.4</td>\n",
       "      <td>Sri Lanka</td>\n",
       "      <td>Pakistan</td>\n",
       "      <td>GWHM Perera</td>\n",
       "      <td>AC Jayangani</td>\n",
       "      <td>...</td>\n",
       "      <td>0.0</td>\n",
       "      <td>4.0</td>\n",
       "      <td>1</td>\n",
       "      <td>19.2</td>\n",
       "      <td>6.0</td>\n",
       "      <td>0.0</td>\n",
       "      <td>0.0</td>\n",
       "      <td>0.000000</td>\n",
       "      <td>0.0</td>\n",
       "      <td>106.0</td>\n",
       "    </tr>\n",
       "    <tr>\n",
       "      <th>4</th>\n",
       "      <td>1310981.0</td>\n",
       "      <td>2022</td>\n",
       "      <td>5/24/2022</td>\n",
       "      <td>Southend Club Cricket Stadium, Karachi</td>\n",
       "      <td>1.0</td>\n",
       "      <td>0.5</td>\n",
       "      <td>Sri Lanka</td>\n",
       "      <td>Pakistan</td>\n",
       "      <td>H Madavi</td>\n",
       "      <td>AC Jayangani</td>\n",
       "      <td>...</td>\n",
       "      <td>0.0</td>\n",
       "      <td>4.0</td>\n",
       "      <td>1</td>\n",
       "      <td>19.1</td>\n",
       "      <td>4.8</td>\n",
       "      <td>0.0</td>\n",
       "      <td>0.0</td>\n",
       "      <td>0.000000</td>\n",
       "      <td>0.0</td>\n",
       "      <td>106.0</td>\n",
       "    </tr>\n",
       "  </tbody>\n",
       "</table>\n",
       "<p>5 rows × 33 columns</p>\n",
       "</div>"
      ],
      "text/plain": [
       "    match_id season start_date                                   venue  \\\n",
       "0  1310981.0   2022  5/24/2022  Southend Club Cricket Stadium, Karachi   \n",
       "1  1310981.0   2022  5/24/2022  Southend Club Cricket Stadium, Karachi   \n",
       "2  1310981.0   2022  5/24/2022  Southend Club Cricket Stadium, Karachi   \n",
       "3  1310981.0   2022  5/24/2022  Southend Club Cricket Stadium, Karachi   \n",
       "4  1310981.0   2022  5/24/2022  Southend Club Cricket Stadium, Karachi   \n",
       "\n",
       "   innings  ball batting_team bowling_team      striker   non_striker  ...  \\\n",
       "0      1.0   0.1    Sri Lanka     Pakistan  GWHM Perera  AC Jayangani  ...   \n",
       "1      1.0   0.2    Sri Lanka     Pakistan  GWHM Perera  AC Jayangani  ...   \n",
       "2      1.0   0.3    Sri Lanka     Pakistan  GWHM Perera  AC Jayangani  ...   \n",
       "3      1.0   0.4    Sri Lanka     Pakistan  GWHM Perera  AC Jayangani  ...   \n",
       "4      1.0   0.5    Sri Lanka     Pakistan     H Madavi  AC Jayangani  ...   \n",
       "\n",
       "  extras_total  run_total  wickets  overs_left  run_rate  striker_score  \\\n",
       "0          0.0        0.0        0        19.5       0.0            0.0   \n",
       "1          0.0        4.0        0        19.4      12.0            4.0   \n",
       "2          0.0        4.0        0        19.3       8.0            4.0   \n",
       "3          0.0        4.0        1        19.2       6.0            0.0   \n",
       "4          0.0        4.0        1        19.1       4.8            0.0   \n",
       "\n",
       "   non_striker_score  striker_rate non_striker_rate final_score  \n",
       "0                0.0      0.000000              0.0       106.0  \n",
       "1                0.0    200.000000              0.0       106.0  \n",
       "2                0.0    133.333333              0.0       106.0  \n",
       "3                0.0      0.000000              0.0       106.0  \n",
       "4                0.0      0.000000              0.0       106.0  \n",
       "\n",
       "[5 rows x 33 columns]"
      ]
     },
     "execution_count": 14,
     "metadata": {},
     "output_type": "execute_result"
    }
   ],
   "source": [
    "df = pd.read_csv('processed_data.csv')\n",
    "df.head()"
   ]
  },
  {
   "cell_type": "code",
   "execution_count": 3,
   "id": "c7053866-f2dc-4b51-b021-cad13c938f91",
   "metadata": {
    "collapsed": true,
    "jupyter": {
     "outputs_hidden": true
    }
   },
   "outputs": [],
   "source": [
    "X_data = df[['ball', 'run_total', 'wickets', 'striker_score', 'non_striker_score', 'overs_left', 'run_rate', 'striker_rate', 'non_striker_rate']]\n",
    "Y_data = df[['final_score']]"
   ]
  },
  {
   "cell_type": "code",
   "execution_count": 4,
   "id": "2ea55514-e845-4f49-bc99-1091af8647a2",
   "metadata": {
    "collapsed": true,
    "jupyter": {
     "outputs_hidden": true
    }
   },
   "outputs": [],
   "source": [
    " X_train, X_test, Y_train, Y_test = train_test_split(X_data, Y_data, test_size = 0.2, random_state = 42)"
   ]
  },
  {
   "cell_type": "code",
   "execution_count": 5,
   "id": "44569c12-6f71-49dd-a9b8-0ef414d56ae2",
   "metadata": {
    "collapsed": true,
    "jupyter": {
     "outputs_hidden": true
    }
   },
   "outputs": [],
   "source": [
    "scaler = StandardScaler()\n",
    "X_train_scaled = scaler.fit_transform(X_train)\n",
    "X_test_scaled = scaler.fit_transform(X_test)"
   ]
  },
  {
   "cell_type": "code",
   "execution_count": 6,
   "id": "130f305a-91cf-45a3-8902-ce322856ef03",
   "metadata": {
    "collapsed": true,
    "jupyter": {
     "outputs_hidden": true
    }
   },
   "outputs": [
    {
     "name": "stdout",
     "output_type": "stream",
     "text": [
      "WARNING:tensorflow:From C:\\Users\\Dhanush Jain\\miniconda3\\envs\\mlcricket\\lib\\site-packages\\tensorflow\\python\\ops\\init_ops.py:1251: calling VarianceScaling.__init__ (from tensorflow.python.ops.init_ops) with dtype is deprecated and will be removed in a future version.\n",
      "Instructions for updating:\n",
      "Call initializer instance with the dtype argument instead of passing it to the constructor\n"
     ]
    }
   ],
   "source": [
    "model = tf.keras.Sequential([\n",
    "    tf.keras.layers.Dense(64, activation = 'relu', input_shape=(X_train.shape[1],)),\n",
    "    tf.keras.layers.BatchNormalization(),\n",
    "    tf.keras.layers.Dense(32, activation = 'relu', input_shape=(X_train.shape[1],)),\n",
    "    tf.keras.layers.BatchNormalization(),\n",
    "    tf.keras.layers.Dense(16, activation = 'relu', input_shape=(X_train.shape[1],)),\n",
    "    tf.keras.layers.BatchNormalization(),\n",
    "    tf.keras.layers.Dense(1)\n",
    "])"
   ]
  },
  {
   "cell_type": "code",
   "execution_count": 7,
   "id": "fb9e6231-a496-4a3d-98ac-0f2847fae77c",
   "metadata": {
    "collapsed": true,
    "jupyter": {
     "outputs_hidden": true
    }
   },
   "outputs": [],
   "source": [
    "model.compile(optimizer='adam', loss='mean_squared_error', metrics=['mae'])"
   ]
  },
  {
   "cell_type": "code",
   "execution_count": 8,
   "id": "b561ff8d-3d64-4c5b-b655-78bb07b3b30a",
   "metadata": {
    "collapsed": true,
    "jupyter": {
     "outputs_hidden": true
    }
   },
   "outputs": [
    {
     "name": "stdout",
     "output_type": "stream",
     "text": [
      "Train on 478636 samples, validate on 119659 samples\n",
      "Epoch 1/100\n",
      "478636/478636 [==============================] - 11s 22us/sample - loss: 2086.0695 - mean_absolute_error: 30.5473 - val_loss: 738.6672 - val_mean_absolute_error: 19.5655\n",
      "Epoch 2/100\n",
      "478636/478636 [==============================] - 10s 21us/sample - loss: 780.0747 - mean_absolute_error: 20.4299 - val_loss: 745.1402 - val_mean_absolute_error: 19.8501\n",
      "Epoch 3/100\n",
      "478636/478636 [==============================] - 10s 21us/sample - loss: 772.3627 - mean_absolute_error: 20.3133 - val_loss: 741.5214 - val_mean_absolute_error: 19.7371\n",
      "Epoch 4/100\n",
      "478636/478636 [==============================] - 10s 21us/sample - loss: 767.9371 - mean_absolute_error: 20.2293 - val_loss: 743.1346 - val_mean_absolute_error: 19.9105\n",
      "Epoch 5/100\n",
      "478636/478636 [==============================] - 10s 21us/sample - loss: 764.4496 - mean_absolute_error: 20.1690 - val_loss: 733.5568 - val_mean_absolute_error: 19.6140\n",
      "Epoch 6/100\n",
      "478636/478636 [==============================] - 10s 21us/sample - loss: 762.8516 - mean_absolute_error: 20.1446 - val_loss: 727.2155 - val_mean_absolute_error: 19.4438\n",
      "Epoch 7/100\n",
      "478636/478636 [==============================] - 10s 21us/sample - loss: 761.6206 - mean_absolute_error: 20.1208 - val_loss: 734.2177 - val_mean_absolute_error: 19.7290\n",
      "Epoch 8/100\n",
      "478636/478636 [==============================] - 10s 22us/sample - loss: 760.7258 - mean_absolute_error: 20.1146 - val_loss: 739.0172 - val_mean_absolute_error: 19.6213\n",
      "Epoch 9/100\n",
      "478636/478636 [==============================] - 10s 21us/sample - loss: 759.6121 - mean_absolute_error: 20.1004 - val_loss: 729.1440 - val_mean_absolute_error: 19.3239\n",
      "Epoch 10/100\n",
      "478636/478636 [==============================] - 10s 21us/sample - loss: 757.7782 - mean_absolute_error: 20.0696 - val_loss: 727.5852 - val_mean_absolute_error: 19.5155\n",
      "Epoch 11/100\n",
      "478636/478636 [==============================] - 10s 21us/sample - loss: 756.7085 - mean_absolute_error: 20.0605 - val_loss: 725.6717 - val_mean_absolute_error: 19.4583\n",
      "Epoch 12/100\n",
      "478636/478636 [==============================] - 10s 21us/sample - loss: 756.7249 - mean_absolute_error: 20.0697 - val_loss: 733.6248 - val_mean_absolute_error: 19.6147\n",
      "Epoch 13/100\n",
      "478636/478636 [==============================] - 10s 21us/sample - loss: 754.3157 - mean_absolute_error: 20.0287 - val_loss: 717.1423 - val_mean_absolute_error: 19.2696\n",
      "Epoch 14/100\n",
      "478636/478636 [==============================] - 10s 21us/sample - loss: 754.4459 - mean_absolute_error: 20.0262 - val_loss: 716.2935 - val_mean_absolute_error: 19.3138\n",
      "Epoch 15/100\n",
      "478636/478636 [==============================] - 10s 21us/sample - loss: 751.8881 - mean_absolute_error: 19.9885 - val_loss: 740.9221 - val_mean_absolute_error: 19.9431\n",
      "Epoch 16/100\n",
      "478636/478636 [==============================] - 10s 21us/sample - loss: 752.1504 - mean_absolute_error: 19.9992 - val_loss: 717.2095 - val_mean_absolute_error: 19.3145\n",
      "Epoch 17/100\n",
      "478636/478636 [==============================] - 10s 21us/sample - loss: 753.0811 - mean_absolute_error: 20.0149 - val_loss: 748.0586 - val_mean_absolute_error: 19.4206\n",
      "Epoch 18/100\n",
      "478636/478636 [==============================] - 10s 21us/sample - loss: 751.0882 - mean_absolute_error: 19.9832 - val_loss: 770.4470 - val_mean_absolute_error: 19.6089\n",
      "Epoch 19/100\n",
      "478636/478636 [==============================] - 10s 21us/sample - loss: 752.7396 - mean_absolute_error: 20.0041 - val_loss: 732.2201 - val_mean_absolute_error: 19.4371\n",
      "Epoch 20/100\n",
      "478636/478636 [==============================] - 10s 21us/sample - loss: 749.9640 - mean_absolute_error: 19.9674 - val_loss: 726.3046 - val_mean_absolute_error: 19.4834\n",
      "Epoch 21/100\n",
      "478636/478636 [==============================] - 10s 21us/sample - loss: 749.6112 - mean_absolute_error: 19.9669 - val_loss: 718.0460 - val_mean_absolute_error: 19.2870\n",
      "Epoch 22/100\n",
      "478636/478636 [==============================] - 10s 21us/sample - loss: 750.5394 - mean_absolute_error: 19.9737 - val_loss: 731.1523 - val_mean_absolute_error: 19.3433\n",
      "Epoch 23/100\n",
      "478636/478636 [==============================] - 10s 22us/sample - loss: 748.5747 - mean_absolute_error: 19.9569 - val_loss: 750.0804 - val_mean_absolute_error: 19.9037\n",
      "Epoch 24/100\n",
      "478636/478636 [==============================] - 10s 22us/sample - loss: 749.9135 - mean_absolute_error: 19.9559 - val_loss: 754.0126 - val_mean_absolute_error: 19.5127\n"
     ]
    }
   ],
   "source": [
    "early_stop = tf.keras.callbacks.EarlyStopping(monitor='val_loss', patience=10)\n",
    "\n",
    "history = model.fit(\n",
    "    X_train_scaled,\n",
    "    Y_train,\n",
    "    epochs = 100,\n",
    "    batch_size = 32,\n",
    "    validation_split = 0.2,\n",
    "    callbacks=[early_stop],\n",
    "    verbose = 1\n",
    ")"
   ]
  },
  {
   "cell_type": "code",
   "execution_count": 9,
   "id": "8fe9f09a-bcda-4e94-8d50-57f9f6a29199",
   "metadata": {},
   "outputs": [
    {
     "data": {
      "image/png": "[encoded data removed]",
      "text/plain": [
       "<Figure size 1200x600 with 1 Axes>"
      ]
     },
     "metadata": {},
     "output_type": "display_data"
    },
    {
     "data": {
      "image/png": "[encoded data removed]",
      "text/plain": [
       "<Figure size 1200x600 with 1 Axes>"
      ]
     },
     "metadata": {},
     "output_type": "display_data"
    }
   ],
   "source": [
    "# Plot training & validation loss values\n",
    "plt.figure(figsize=(12, 6))\n",
    "plt.plot(history.history['loss'])\n",
    "plt.plot(history.history['val_loss'])\n",
    "plt.title('Model loss')\n",
    "plt.ylabel('Loss')\n",
    "plt.xlabel('Epoch')\n",
    "plt.legend(['Train', 'Validation'], loc='upper right')\n",
    "plt.show()\n",
    "\n",
    "# Plot training & validation mean absolute error\n",
    "plt.figure(figsize=(12, 6))\n",
    "plt.plot(history.history['mean_absolute_error'])\n",
    "plt.plot(history.history['val_mean_absolute_error'])\n",
    "plt.title('Model Mean Absolute Error')\n",
    "plt.ylabel('MAE')\n",
    "plt.xlabel('Epoch')\n",
    "plt.legend(['Train', 'Validation'], loc='upper right')\n",
    "plt.show()"
   ]
  },
  {
   "cell_type": "code",
   "execution_count": 10,
   "id": "abe6962b-1af7-4446-84fe-232400918df0",
   "metadata": {
    "collapsed": true,
    "jupyter": {
     "outputs_hidden": true
    }
   },
   "outputs": [
    {
     "name": "stdout",
     "output_type": "stream",
     "text": [
      "Test MAE: 19.54842185974121\n"
     ]
    }
   ],
   "source": [
    "#The mean error (in runs) of the model's predictions on the test data\n",
    "test_loss, test_mae = model.evaluate(X_test_scaled, Y_test, verbose=0)\n",
    "print(f\"Test MAE: {test_mae}\")"
   ]
  },
  {
   "cell_type": "code",
   "execution_count": 11,
   "id": "38b16024-cff0-4ab7-882d-2866fcb94922",
   "metadata": {},
   "outputs": [
    {
     "data": {
      "text/html": [
       "<div>\n",
       "<style scoped>\n",
       "    .dataframe tbody tr th:only-of-type {\n",
       "        vertical-align: middle;\n",
       "    }\n",
       "\n",
       "    .dataframe tbody tr th {\n",
       "        vertical-align: top;\n",
       "    }\n",
       "\n",
       "    .dataframe thead th {\n",
       "        text-align: right;\n",
       "    }\n",
       "</style>\n",
       "<table border=\"1\" class=\"dataframe\">\n",
       "  <thead>\n",
       "    <tr style=\"text-align: right;\">\n",
       "      <th></th>\n",
       "      <th>Actual</th>\n",
       "      <th>Predicted</th>\n",
       "    </tr>\n",
       "  </thead>\n",
       "  <tbody>\n",
       "    <tr>\n",
       "      <th>22512</th>\n",
       "      <td>72.0</td>\n",
       "      <td>92.307999</td>\n",
       "    </tr>\n",
       "    <tr>\n",
       "      <th>258251</th>\n",
       "      <td>194.0</td>\n",
       "      <td>172.110229</td>\n",
       "    </tr>\n",
       "    <tr>\n",
       "      <th>632983</th>\n",
       "      <td>98.0</td>\n",
       "      <td>127.674454</td>\n",
       "    </tr>\n",
       "    <tr>\n",
       "      <th>557115</th>\n",
       "      <td>177.0</td>\n",
       "      <td>173.346832</td>\n",
       "    </tr>\n",
       "    <tr>\n",
       "      <th>393814</th>\n",
       "      <td>126.0</td>\n",
       "      <td>125.315872</td>\n",
       "    </tr>\n",
       "    <tr>\n",
       "      <th>619622</th>\n",
       "      <td>108.0</td>\n",
       "      <td>138.755859</td>\n",
       "    </tr>\n",
       "    <tr>\n",
       "      <th>503333</th>\n",
       "      <td>119.0</td>\n",
       "      <td>115.226868</td>\n",
       "    </tr>\n",
       "    <tr>\n",
       "      <th>739885</th>\n",
       "      <td>167.0</td>\n",
       "      <td>120.962509</td>\n",
       "    </tr>\n",
       "    <tr>\n",
       "      <th>528007</th>\n",
       "      <td>116.0</td>\n",
       "      <td>123.560699</td>\n",
       "    </tr>\n",
       "    <tr>\n",
       "      <th>58610</th>\n",
       "      <td>99.0</td>\n",
       "      <td>108.999748</td>\n",
       "    </tr>\n",
       "    <tr>\n",
       "      <th>153202</th>\n",
       "      <td>166.0</td>\n",
       "      <td>161.016312</td>\n",
       "    </tr>\n",
       "    <tr>\n",
       "      <th>687970</th>\n",
       "      <td>152.0</td>\n",
       "      <td>147.832001</td>\n",
       "    </tr>\n",
       "    <tr>\n",
       "      <th>164261</th>\n",
       "      <td>205.0</td>\n",
       "      <td>192.180145</td>\n",
       "    </tr>\n",
       "    <tr>\n",
       "      <th>70315</th>\n",
       "      <td>75.0</td>\n",
       "      <td>160.644470</td>\n",
       "    </tr>\n",
       "    <tr>\n",
       "      <th>509361</th>\n",
       "      <td>216.0</td>\n",
       "      <td>195.876038</td>\n",
       "    </tr>\n",
       "    <tr>\n",
       "      <th>591636</th>\n",
       "      <td>111.0</td>\n",
       "      <td>147.864716</td>\n",
       "    </tr>\n",
       "    <tr>\n",
       "      <th>685883</th>\n",
       "      <td>136.0</td>\n",
       "      <td>110.729050</td>\n",
       "    </tr>\n",
       "    <tr>\n",
       "      <th>534209</th>\n",
       "      <td>104.0</td>\n",
       "      <td>119.298813</td>\n",
       "    </tr>\n",
       "    <tr>\n",
       "      <th>560529</th>\n",
       "      <td>85.0</td>\n",
       "      <td>90.709579</td>\n",
       "    </tr>\n",
       "    <tr>\n",
       "      <th>534542</th>\n",
       "      <td>167.0</td>\n",
       "      <td>154.149063</td>\n",
       "    </tr>\n",
       "  </tbody>\n",
       "</table>\n",
       "</div>"
      ],
      "text/plain": [
       "        Actual   Predicted\n",
       "22512     72.0   92.307999\n",
       "258251   194.0  172.110229\n",
       "632983    98.0  127.674454\n",
       "557115   177.0  173.346832\n",
       "393814   126.0  125.315872\n",
       "619622   108.0  138.755859\n",
       "503333   119.0  115.226868\n",
       "739885   167.0  120.962509\n",
       "528007   116.0  123.560699\n",
       "58610     99.0  108.999748\n",
       "153202   166.0  161.016312\n",
       "687970   152.0  147.832001\n",
       "164261   205.0  192.180145\n",
       "70315     75.0  160.644470\n",
       "509361   216.0  195.876038\n",
       "591636   111.0  147.864716\n",
       "685883   136.0  110.729050\n",
       "534209   104.0  119.298813\n",
       "560529    85.0   90.709579\n",
       "534542   167.0  154.149063"
      ]
     },
     "execution_count": 11,
     "metadata": {},
     "output_type": "execute_result"
    }
   ],
   "source": [
    "#Some example predictions on the test data\n",
    "predictions = model.predict(X_test_scaled)\n",
    "\n",
    "df_predictions = pd.DataFrame({\n",
    "    'Actual': Y_test.iloc[:, 0],\n",
    "    'Predicted': predictions.flatten()\n",
    "})\n",
    "df_predictions.head(20)"
   ]
  },
  {
   "cell_type": "code",
   "execution_count": 12,
   "id": "dbde7fd5-6328-4dd7-aa5a-4ccaa10e62e2",
   "metadata": {
    "collapsed": true,
    "jupyter": {
     "outputs_hidden": true
    }
   },
   "outputs": [
    {
     "data": {
      "text/plain": [
       "['scaler.pkl']"
      ]
     },
     "execution_count": 12,
     "metadata": {},
     "output_type": "execute_result"
    }
   ],
   "source": [
    "# Save model architecture\n",
    "model.save('cricket_score_predictor.h5')\n",
    "\n",
    "#Save scaler\n",
    "joblib.dump(scaler, 'scaler.pkl')"
   ]
  },
  {
   "cell_type": "code",
   "execution_count": null,
   "id": "afcbe596-3afb-4f62-acaa-888c2e6029d1",
   "metadata": {
    "collapsed": true,
    "jupyter": {
     "outputs_hidden": true
    }
   },
   "outputs": [],
   "source": []
  }
 ],
 "metadata": {
  "kernelspec": {
   "display_name": "mlcricket",
   "language": "python",
   "name": "mlcricket"
  },
  "language_info": {
   "codemirror_mode": {
    "name": "ipython",
    "version": 3
   },
   "file_extension": ".py",
   "mimetype": "text/x-python",
   "name": "python",
   "nbconvert_exporter": "python",
   "pygments_lexer": "ipython3",
   "version": "3.7.12"
  }
 },
 "nbformat": 4,
 "nbformat_minor": 5
}
