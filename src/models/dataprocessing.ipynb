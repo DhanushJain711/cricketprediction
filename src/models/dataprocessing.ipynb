{
 "cells": [
  {
   "cell_type": "code",
   "execution_count": 1,
   "id": "f185c43d-4e2d-4f81-952c-ead5dab83bff",
   "metadata": {},
   "outputs": [],
   "source": [
    "import math\n",
    "\n",
    "import pandas as pd"
   ]
  },
  {
   "cell_type": "code",
   "execution_count": 2,
   "id": "f0fb528f-65e3-42e0-94bc-f04b84419ce9",
   "metadata": {},
   "outputs": [
    {
     "name": "stderr",
     "output_type": "stream",
     "text": [
      "C:\\Users\\Dhanush Jain\\miniconda3\\envs\\mlcricket\\lib\\site-packages\\IPython\\core\\interactiveshell.py:3457: DtypeWarning: Columns (20,21) have mixed types.Specify dtype option on import or set low_memory=False.\n",
      "  exec(code_obj, self.user_global_ns, self.user_ns)\n"
     ]
    }
   ],
   "source": [
    "df = pd.read_csv('./combinedv2.csv')"
   ]
  },
  {
   "cell_type": "code",
   "execution_count": 3,
   "id": "ab55b5ea-1b87-4a44-ab76-9d87d271f483",
   "metadata": {},
   "outputs": [],
   "source": [
    "# Drop null rows\n",
    "df.drop(['version', '2.2.0', '2.1.0'], inplace=True, axis=1)\n",
    "df.dropna(how = 'all', inplace = True)\n",
    "df = df.dropna(subset=['match_id'])"
   ]
  },
  {
   "cell_type": "code",
   "execution_count": 4,
   "id": "9577c365-19d5-4a72-b50c-2862d63b5270",
   "metadata": {},
   "outputs": [],
   "source": [
    "# Create columns for total runs made and total wickets fallen\n",
    "df['bat_run_total'] = df.groupby(['match_id', 'batting_team'])['runs_off_bat'].cumsum()\n",
    "df['extras_total'] = df.groupby(['match_id', 'batting_team'])['extras'].cumsum()\n",
    "df['run_total'] = df['bat_run_total'] + df['extras_total']\n",
    "df['wickets'] = df.groupby(['match_id', 'batting_team'])['wicket_type'].transform(lambda x: x.notnull().cumsum())"
   ]
  },
  {
   "cell_type": "code",
   "execution_count": 5,
   "id": "dc579c8a-2924-47b0-bd44-f4efcf401024",
   "metadata": {},
   "outputs": [],
   "source": [
    "# Create columns for overs left and run rate\n",
    "def calc_overs_left(ball):\n",
    "    return ((6 - int(str(ball)[-1])) / 10) + (20 - math.ceil(ball))\n",
    "\n",
    "def calc_run_rate(ball, run_total):\n",
    "    balls_passed = (6 * math.floor(ball)) + int(str(ball)[-1])\n",
    "    return (run_total / balls_passed) * 6\n",
    "\n",
    "df['overs_left'] = df['ball'].apply(calc_overs_left)\n",
    "df['run_rate'] = df.apply(lambda row: calc_run_rate(row['ball'], row['run_total']), axis=1)"
   ]
  },
  {
   "cell_type": "code",
   "execution_count": null,
   "id": "bc42a1f7-09c3-4b1d-920c-152d42c3d69a",
   "metadata": {},
   "outputs": [],
   "source": [
    "# Calculate striker and non-striker scores and strike rates\n",
    "def calculate_scores(group):\n",
    "    striker_score = 0\n",
    "    non_striker_score = 0\n",
    "    striker_rate = 0\n",
    "    non_striker_rate = 0\n",
    "    striker_scores = []\n",
    "    non_striker_scores = []\n",
    "    striker_rates = []\n",
    "    non_striker_rates = []\n",
    "    striker_balls = 0\n",
    "    non_striker_balls = 0\n",
    "\n",
    "    for _, row in group.iterrows():\n",
    "        if pd.notna(row['wicket_type']):\n",
    "            if row['player_dismissed'] == row['striker']:\n",
    "                striker_score = 0\n",
    "                striker_balls = 0\n",
    "            elif row['player_dismissed'] == row['non_striker']:\n",
    "                non_striker_score = 0\n",
    "                non_striker_balls = 0\n",
    "\n",
    "        striker_score += row['runs_off_bat']\n",
    "        striker_balls += 1\n",
    "        striker_rate = (striker_score / striker_balls) * 100\n",
    "\n",
    "        striker_scores.append(striker_score)\n",
    "        striker_rates.append(striker_rate)\n",
    "        non_striker_scores.append(non_striker_score)\n",
    "        non_striker_rates.append(non_striker_rate)\n",
    "\n",
    "        # Swap scores if strike rotates\n",
    "        if row['bat_run_total'] % 2 == 1:\n",
    "            striker_score, non_striker_score = non_striker_score, striker_score\n",
    "            striker_rate, non_striker_rate = non_striker_rate, striker_rate\n",
    "            striker_balls, non_striker_balls = non_striker_balls, striker_balls\n",
    "\n",
    "    group['striker_score'] = striker_scores\n",
    "    group['non_striker_score'] = non_striker_scores\n",
    "    group['striker_rate'] = striker_rates\n",
    "    group['non_striker_rate'] = non_striker_rates\n",
    "    return group\n",
    "\n",
    "df = df.groupby('match_id').apply(calculate_scores).reset_index(drop=True)\n",
    "df.head(20)"
   ]
  },
  {
   "cell_type": "code",
   "execution_count": 7,
   "id": "682c891a-8a23-47fe-bf47-a20a14e3841d",
   "metadata": {},
   "outputs": [],
   "source": [
    "#Calculate final score corresponding to each ball (target variable)\n",
    "def final_score(group):\n",
    "    finalScore = group['run_total'].iloc[-1]\n",
    "    for _, row in group.iterrows():\n",
    "        group['final_score'] = finalScore\n",
    "    return group\n",
    "\n",
    "df = df.groupby(['match_id','batting_team']).apply(final_score).reset_index(drop=True)"
   ]
  },
  {
   "cell_type": "code",
   "execution_count": 8,
   "id": "4928f62c-187c-43a7-ae3f-f3b3c1d797f4",
   "metadata": {},
   "outputs": [],
   "source": [
    "#Save the dataframe for use in model training\n",
    "df.to_csv('processed_data.csv', index=False)"
   ]
  }
 ],
 "metadata": {
  "kernelspec": {
   "display_name": "mlcricket",
   "language": "python",
   "name": "mlcricket"
  },
  "language_info": {
   "codemirror_mode": {
    "name": "ipython",
    "version": 3
   },
   "file_extension": ".py",
   "mimetype": "text/x-python",
   "name": "python",
   "nbconvert_exporter": "python",
   "pygments_lexer": "ipython3",
   "version": "3.7.12"
  }
 },
 "nbformat": 4,
 "nbformat_minor": 5
}
