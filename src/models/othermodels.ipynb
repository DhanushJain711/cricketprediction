{
 "cells": [
  {
   "cell_type": "code",
   "execution_count": 19,
   "id": "b398ea8b-d0e3-42ff-8055-ea1b3b3ac5d4",
   "metadata": {},
   "outputs": [],
   "source": [
    "import pandas as pd\n",
    "from sklearn.model_selection import train_test_split\n",
    "from sklearn.preprocessing import StandardScaler\n",
    "from sklearn.metrics import mean_absolute_error, mean_squared_error\n",
    "from sklearn.linear_model import LinearRegression\n",
    "from sklearn.ensemble import GradientBoostingRegressor"
   ]
  },
  {
   "cell_type": "code",
   "execution_count": 6,
   "id": "30fe3328-2177-44eb-a20c-d885f3638a37",
   "metadata": {},
   "outputs": [
    {
     "name": "stderr",
     "output_type": "stream",
     "text": [
      "C:\\Users\\Dhanush Jain\\miniconda3\\envs\\mlcricket\\lib\\site-packages\\IPython\\core\\interactiveshell.py:3457: DtypeWarning: Columns (20,21) have mixed types.Specify dtype option on import or set low_memory=False.\n",
      "  exec(code_obj, self.user_global_ns, self.user_ns)\n"
     ]
    }
   ],
   "source": [
    "df = pd.read_csv('processed_data.csv')"
   ]
  },
  {
   "cell_type": "code",
   "execution_count": 7,
   "id": "ddf6d5a5-7c99-4cbc-938e-995a5d6d750b",
   "metadata": {},
   "outputs": [],
   "source": [
    "X_data = df[['ball', 'run_total', 'wickets', 'striker_score', 'non_striker_score', 'overs_left', 'run_rate', 'striker_rate', 'non_striker_rate']]\n",
    "Y_data = df[['final_score']]"
   ]
  },
  {
   "cell_type": "code",
   "execution_count": null,
   "id": "8dcca23a-8bb8-4900-9694-fe0df1832ce0",
   "metadata": {},
   "outputs": [],
   "source": [
    "X_train, X_test, Y_train, Y_test = train_test_split(X_data, Y_data, test_size = 0.2, random_state = 42)"
   ]
  },
  {
   "cell_type": "code",
   "execution_count": 9,
   "id": "2bc4705a-174d-4024-9c07-6b8f40885780",
   "metadata": {},
   "outputs": [],
   "source": [
    "scaler = StandardScaler()\n",
    "X_train_scaled = scaler.fit_transform(X_train)\n",
    "X_test_scaled = scaler.fit_transform(X_test)"
   ]
  },
  {
   "cell_type": "code",
   "execution_count": 11,
   "id": "1a6c0a7c-f9a5-4ae0-96e4-4bca1491d608",
   "metadata": {},
   "outputs": [
    {
     "name": "stdout",
     "output_type": "stream",
     "text": [
      "Linear Regression MAE: 21.261470911223608\n"
     ]
    }
   ],
   "source": [
    "#Linear Regression Model\n",
    "\n",
    "lr_model = LinearRegression()\n",
    "lr_model.fit(X_train_scaled, Y_train)\n",
    "lr_pred = lr_model.predict(X_test_scaled)\n",
    "lr_mae = mean_absolute_error(Y_test, lr_pred)\n",
    "print(f\"Linear Regression MAE: {lr_mae}\")"
   ]
  },
  {
   "cell_type": "code",
   "execution_count": 13,
   "id": "26beaa34-685c-40ef-9858-7ab9076c2423",
   "metadata": {},
   "outputs": [
    {
     "name": "stdout",
     "output_type": "stream",
     "text": [
      "Gradient Boosting MAE: 20.210087899729537\n"
     ]
    }
   ],
   "source": [
    "# Gradient boosting model\n",
    "\n",
    "gb_model = GradientBoostingRegressor(n_estimators=100, learning_rate=0.1, max_depth=3, random_state=42)\n",
    "gb_model.fit(X_train_scaled, Y_train.values.ravel())\n",
    "gb_pred = gb_model.predict(X_test_scaled)\n",
    "gb_mae = mean_absolute_error(Y_test, gb_pred)\n",
    "print(f\"Gradient Boosting MAE: {gb_mae}\")"
   ]
  },
  {
   "cell_type": "code",
   "execution_count": null,
   "id": "6cb35789-6fb6-4590-9e1c-df7a0a97ce1e",
   "metadata": {},
   "outputs": [],
   "source": []
  }
 ],
 "metadata": {
  "kernelspec": {
   "display_name": "mlcricket",
   "language": "python",
   "name": "mlcricket"
  },
  "language_info": {
   "codemirror_mode": {
    "name": "ipython",
    "version": 3
   },
   "file_extension": ".py",
   "mimetype": "text/x-python",
   "name": "python",
   "nbconvert_exporter": "python",
   "pygments_lexer": "ipython3",
   "version": "3.7.12"
  }
 },
 "nbformat": 4,
 "nbformat_minor": 5
}
